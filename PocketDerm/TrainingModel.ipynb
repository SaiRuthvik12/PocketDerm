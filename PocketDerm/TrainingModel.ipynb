{
 "cells": [
  {
   "cell_type": "code",
   "execution_count": 2,
   "id": "56467606",
   "metadata": {},
   "outputs": [],
   "source": [
    "import pandas as pd\n",
    "import numpy as np\n",
    "import tensorflow.keras\n",
    "from tensorflow.keras.preprocessing.image import ImageDataGenerator\n",
    "from tensorflow.keras.utils import to_categorical\n",
    "from tensorflow.keras.models import Sequential\n",
    "from tensorflow.keras.layers import Conv2D\n",
    "from tensorflow.keras.layers import MaxPooling2D\n",
    "from tensorflow.keras.layers import Dense\n",
    "from tensorflow.keras.layers import Flatten\n",
    "from tensorflow.keras.layers import Dropout\n",
    "from tensorflow.keras.layers import BatchNormalization\n",
    "from tensorflow.keras.optimizers import Adam"
   ]
  },
  {
   "cell_type": "code",
   "execution_count": 3,
   "id": "7e00e8d8",
   "metadata": {},
   "outputs": [
    {
     "name": "stdout",
     "output_type": "stream",
     "text": [
      "Found 1266 images belonging to 7 classes.\n"
     ]
    }
   ],
   "source": [
    "train_datagen = ImageDataGenerator(rescale=1./255, shear_range=0.2, zoom_range=0.2, horizontal_flip=True)\n",
    "training_set = train_datagen.flow_from_directory(\n",
    "    'dataset/train', \n",
    "    target_size=(224, 224), \n",
    "    batch_size=32, \n",
    "    class_mode='categorical')"
   ]
  },
  {
   "cell_type": "code",
   "execution_count": 4,
   "id": "f117fadb",
   "metadata": {},
   "outputs": [
    {
     "name": "stdout",
     "output_type": "stream",
     "text": [
      "Found 246 images belonging to 7 classes.\n"
     ]
    }
   ],
   "source": [
    "test_datagen = ImageDataGenerator(rescale=1./255)\n",
    "test_set = test_datagen.flow_from_directory(\n",
    "        'dataset/test',\n",
    "        target_size=(224, 224),\n",
    "        batch_size=32,\n",
    "        class_mode='categorical')"
   ]
  },
  {
   "cell_type": "code",
   "execution_count": 5,
   "id": "411b7680",
   "metadata": {},
   "outputs": [],
   "source": [
    "from tensorflow.keras.applications.vgg16 import VGG16\n",
    "\n",
    "base_model = VGG16(input_shape = (224, 224, 3), # Shape of our images\n",
    "include_top = False, # Leave out the last fully connected layer\n",
    "weights = 'imagenet')\n",
    "\n",
    "for layer in base_model.layers:\n",
    "    layer.trainable = False"
   ]
  },
  {
   "cell_type": "code",
   "execution_count": 6,
   "id": "ef41f05e",
   "metadata": {},
   "outputs": [],
   "source": [
    "x = Flatten()(base_model.output)\n",
    "x = Dense(256, activation='relu')(x)\n",
    "x = Dropout(0.5)(x)\n",
    "x = Dense(7, activation='softmax')(x)\n",
    "\n",
    "model = tensorflow.keras.models.Model(base_model.input, x)\n",
    "\n",
    "model.compile(optimizer = tensorflow.keras.optimizers.RMSprop(learning_rate=0.0001), loss = 'categorical_crossentropy',metrics = ['acc'])"
   ]
  },
  {
   "cell_type": "code",
   "execution_count": 26,
   "id": "13e1b1a1",
   "metadata": {},
   "outputs": [
    {
     "name": "stdout",
     "output_type": "stream",
     "text": [
      "Epoch 1/10\n",
      "40/40 [==============================] - 32s 798ms/step - loss: 0.1919 - acc: 0.9352 - val_loss: 0.9685 - val_acc: 0.7967\n",
      "Epoch 2/10\n",
      "40/40 [==============================] - 33s 815ms/step - loss: 0.2006 - acc: 0.9384 - val_loss: 1.0142 - val_acc: 0.8008\n",
      "Epoch 3/10\n",
      "40/40 [==============================] - 31s 775ms/step - loss: 0.2167 - acc: 0.9344 - val_loss: 0.9227 - val_acc: 0.7967\n",
      "Epoch 4/10\n",
      "40/40 [==============================] - 31s 782ms/step - loss: 0.1866 - acc: 0.9376 - val_loss: 0.9282 - val_acc: 0.8049\n",
      "Epoch 5/10\n",
      "40/40 [==============================] - 31s 773ms/step - loss: 0.1881 - acc: 0.9352 - val_loss: 1.0011 - val_acc: 0.7886\n",
      "Epoch 6/10\n",
      "40/40 [==============================] - 31s 775ms/step - loss: 0.2103 - acc: 0.9321 - val_loss: 1.0184 - val_acc: 0.8008\n",
      "Epoch 7/10\n",
      "40/40 [==============================] - 32s 791ms/step - loss: 0.1916 - acc: 0.9305 - val_loss: 0.9236 - val_acc: 0.8089\n",
      "Epoch 8/10\n",
      "40/40 [==============================] - 31s 778ms/step - loss: 0.1872 - acc: 0.9384 - val_loss: 0.9448 - val_acc: 0.8211\n",
      "Epoch 9/10\n",
      "40/40 [==============================] - 31s 779ms/step - loss: 0.1801 - acc: 0.9431 - val_loss: 1.2615 - val_acc: 0.7561\n",
      "Epoch 10/10\n",
      "40/40 [==============================] - 31s 773ms/step - loss: 0.1814 - acc: 0.9400 - val_loss: 0.9718 - val_acc: 0.8049\n"
     ]
    }
   ],
   "source": [
    "derm_model=model.fit(x=training_set, validation_data=test_set,epochs=10)"
   ]
  },
  {
   "cell_type": "code",
   "execution_count": 27,
   "id": "797dea8a",
   "metadata": {},
   "outputs": [
    {
     "name": "stdout",
     "output_type": "stream",
     "text": [
      "> 80.488\n"
     ]
    }
   ],
   "source": [
    "_, acc = model.evaluate(test_set, verbose=0)\n",
    "print('> %.3f' % (acc * 100.0))"
   ]
  },
  {
   "cell_type": "code",
   "execution_count": 28,
   "id": "d087bb67",
   "metadata": {},
   "outputs": [],
   "source": [
    "model.save('pocketdermaNew5.h5')"
   ]
  },
  {
   "cell_type": "code",
   "execution_count": 29,
   "id": "3f57eb54",
   "metadata": {},
   "outputs": [],
   "source": [
    "loaded_model = tensorflow.keras.models.load_model(\"pocketdermaNew3.h5\")"
   ]
  },
  {
   "cell_type": "code",
   "execution_count": 30,
   "id": "660787cd",
   "metadata": {},
   "outputs": [
    {
     "name": "stdout",
     "output_type": "stream",
     "text": [
      "> 80.488\n"
     ]
    }
   ],
   "source": [
    "_, acc = loaded_model.evaluate(test_set, verbose=0)\n",
    "print('> %.3f' % (acc * 100.0))"
   ]
  },
  {
   "cell_type": "code",
   "execution_count": null,
   "id": "61ffa22f",
   "metadata": {},
   "outputs": [],
   "source": []
  }
 ],
 "metadata": {
  "kernelspec": {
   "display_name": "Python 3 (ipykernel)",
   "language": "python",
   "name": "python3"
  },
  "language_info": {
   "codemirror_mode": {
    "name": "ipython",
    "version": 3
   },
   "file_extension": ".py",
   "mimetype": "text/x-python",
   "name": "python",
   "nbconvert_exporter": "python",
   "pygments_lexer": "ipython3",
   "version": "3.9.7"
  }
 },
 "nbformat": 4,
 "nbformat_minor": 5
}
